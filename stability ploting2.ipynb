{
  "nbformat": 4,
  "nbformat_minor": 0,
  "metadata": {
    "colab": {
      "provenance": []
    },
    "kernelspec": {
      "name": "python3",
      "display_name": "Python 3"
    },
    "language_info": {
      "name": "python"
    }
  },
  "cells": [
    {
      "cell_type": "code",
      "source": [
        "from openpyxl import load_workbook\n",
        "\n",
        "wb = load_workbook('stability test.xlsx')\n",
        "batch_num = 3\n",
        "data_sheet = 'data2'\n",
        "sheet = wb[data_sheet]\n",
        "\n",
        "# 確認資料的行列數\n",
        "\n",
        "for data in sheet.iter_rows(min_row=1, max_row=batch_num+2, min_col=1, max_col=10, values_only=True):\n",
        "  print(data)"
      ],
      "metadata": {
        "colab": {
          "base_uri": "https://localhost:8080/"
        },
        "id": "tnwJpT0SDvaS",
        "outputId": "fb7540d0-ef58-497f-9263-e4c886e86457"
      },
      "execution_count": 5,
      "outputs": [
        {
          "output_type": "stream",
          "name": "stdout",
          "text": [
            "('pH', 6, ' ±', 0.3, None, None, None, None, None, None)\n",
            "(None, 0, 1, 3, 6, 9, 12, 18, 24, 36)\n",
            "('NA03C001_U_5', 6, 6, 6, 6, None, None, None, None, None)\n",
            "('NA03C001_I_5', 6, None, None, None, None, None, None, None, None)\n",
            "('BE23006_5', 6, 6, 6, 6, 6.1, 6, None, None, None)\n"
          ]
        }
      ]
    },
    {
      "cell_type": "code",
      "source": [
        "data_sheet = 'data2'\n",
        "batch_num = 2\n",
        "\n",
        "sheet = wb[data_sheet]\n",
        "data_total = []\n",
        "for data in sheet.iter_rows(min_row=1, max_row=batch_num+2, min_col=1, max_col=10, values_only=True):\n",
        "  data_total.append(data)\n",
        "data_total"
      ],
      "metadata": {
        "colab": {
          "base_uri": "https://localhost:8080/"
        },
        "id": "slvnQ5IATOWY",
        "outputId": "d3cf5885-8219-4e05-8997-f1db70450341"
      },
      "execution_count": 11,
      "outputs": [
        {
          "output_type": "execute_result",
          "data": {
            "text/plain": [
              "[('pH', 6, ' ±', 0.3, None, None, None, None, None, None),\n",
              " (None, 0, 1, 2, 3, 6, None, None, None, None),\n",
              " ('NA03C001_25', 6, 6, 6, 6, 6, None, None, None, None),\n",
              " ('BE23006_25', 6, 6, 6, 6, 6, None, None, None, None)]"
            ]
          },
          "metadata": {},
          "execution_count": 11
        }
      ]
    },
    {
      "cell_type": "code",
      "source": [
        "data_total[0][1]"
      ],
      "metadata": {
        "colab": {
          "base_uri": "https://localhost:8080/"
        },
        "id": "XbgzjI49d4HT",
        "outputId": "e2bf44ce-a2c7-4294-8afb-0321799c342d"
      },
      "execution_count": 13,
      "outputs": [
        {
          "output_type": "execute_result",
          "data": {
            "text/plain": [
              "6"
            ]
          },
          "metadata": {},
          "execution_count": 13
        }
      ]
    },
    {
      "cell_type": "code",
      "source": [
        "import matplotlib.pyplot as plt\n",
        "import numpy as np"
      ],
      "metadata": {
        "id": "J0N5AMhwdAga"
      },
      "execution_count": 7,
      "outputs": []
    },
    {
      "cell_type": "code",
      "source": [
        "# pro-defination\n",
        "# modify test, spec., excel range\n",
        "\n",
        "test_item = \"pH\"\n",
        "# condition = \"Long-term Stability (5±3°C)\"\n",
        "condition = \"Accelarated Study (25±2°C 60±5%)\"\n",
        "\n",
        "title = f\"{condition} - {test_item}\"\n",
        "\n",
        "\n",
        "\n",
        "data_total = []\n",
        "batch_num = 2\n",
        "data_sheet = 'data2'\n",
        "sheet = wb[data_sheet]\n",
        "\n",
        "# LT data extract\n",
        "# for data in sheet.iter_rows(min_row=26, max_row=29, min_col=1, max_col=10, values_only=True):\n",
        "#   batch, T0, T1, T3, T6, T9, T12, T18, T24, T36 = data\n",
        "#   pH_data_LT.append((batch, T0, T1, T3, T6, T9, T12, T18, T24, T36))\n",
        "\n",
        "# ACC data extract\n",
        "for data in sheet.iter_rows(min_row=32, max_row=33, min_col=1, max_col=6, values_only=True):\n",
        "  data_total.append(data)\n",
        "\n",
        "# timepoint\n",
        "time = range(0, 37, 2)\n",
        "# specification\n",
        "value_limit = np.arange(1470, 1790, 50)\n",
        "\n",
        "data_total\n",
        "\n",
        "# x_axis = data_total[0][1:]  # 第一行（跳過 None）\n",
        "# datasets = data_total[1:]  # 剩餘的行\n",
        "\n",
        "# plt.figure(figsize=(10, 6))\n",
        "\n",
        "# for row in datasets:\n",
        "#     label = row[0]  # 每一行的標籤\n",
        "#     values = row[1:]  # 每一行的數據（跳過標籤）\n",
        "\n",
        "#     # # 將 None 值替換為 0 或進行過濾\n",
        "#     # values = [0 if v is None else v for v in values]\n",
        "\n",
        "#     plt.plot(x_axis, values, marker='o', linestyle='-', linewidth=2, alpha = 0.6, label=label)\n",
        "\n",
        "# plt.title(title, fontsize=18, fontweight='bold')\n",
        "\n",
        "# plt.xlabel(\"Time point (months)\")\n",
        "# plt.xticks(time, fontsize=12)\n",
        "\n",
        "# plt.ylabel(test_item, fontsize=15)\n",
        "# plt.yticks([i for i in value_limit], fontsize=12)\n",
        "\n",
        "# plt.grid(True, linestyle='--', alpha=0.6)\n",
        "# plt.legend()\n",
        "# plt.grid(True)\n",
        "\n",
        "# # plt.savefig(f\"{title}.png\", dpi=300)\n",
        "\n",
        "# plt.show()"
      ],
      "metadata": {
        "colab": {
          "base_uri": "https://localhost:8080/"
        },
        "id": "JfyaK8cZ9oae",
        "outputId": "4a780b0d-04ff-426f-8f9a-32e50d589fee"
      },
      "execution_count": 14,
      "outputs": [
        {
          "output_type": "execute_result",
          "data": {
            "text/plain": [
              "[(None, None, None, None, None, None), (None, None, None, None, None, None)]"
            ]
          },
          "metadata": {},
          "execution_count": 14
        }
      ]
    },
    {
      "cell_type": "code",
      "source": [],
      "metadata": {
        "id": "0jTVSOOmVbTm"
      },
      "execution_count": null,
      "outputs": []
    }
  ]
}